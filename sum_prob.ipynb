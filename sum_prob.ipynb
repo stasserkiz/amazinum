{
 "cells": [
  {
   "cell_type": "code",
   "execution_count": 1,
   "id": "c02b25ae",
   "metadata": {},
   "outputs": [],
   "source": [
    "sum = 4\n",
    "prod = 4"
   ]
  },
  {
   "cell_type": "code",
   "execution_count": 2,
   "id": "c0b01120",
   "metadata": {},
   "outputs": [],
   "source": [
    "for a in range(2,100):\n",
    "    for b in range(2,100):\n",
    "        current_sum = a+b\n",
    "        current_prod = a*b\n",
    "\n",
    "        if current_sum == sum and current_prod != prod:\n",
    "            prod = current_prod\n",
    "        elif current_prod == prod and current_sum != sum:\n",
    "            sum = current_sum"
   ]
  },
  {
   "cell_type": "code",
   "execution_count": 3,
   "id": "ce028cee",
   "metadata": {},
   "outputs": [
    {
     "name": "stdout",
     "output_type": "stream",
     "text": [
      "Перше число =  99\n",
      "Друге число =  99\n"
     ]
    }
   ],
   "source": [
    "print(\"Перше число = \", a)\n",
    "print(\"Друге число = \", b)"
   ]
  },
  {
   "cell_type": "code",
   "execution_count": null,
   "id": "7149b2d1",
   "metadata": {},
   "outputs": [],
   "source": []
  }
 ],
 "metadata": {
  "kernelspec": {
   "display_name": "Python 3 (ipykernel)",
   "language": "python",
   "name": "python3"
  },
  "language_info": {
   "codemirror_mode": {
    "name": "ipython",
    "version": 3
   },
   "file_extension": ".py",
   "mimetype": "text/x-python",
   "name": "python",
   "nbconvert_exporter": "python",
   "pygments_lexer": "ipython3",
   "version": "3.11.5"
  }
 },
 "nbformat": 4,
 "nbformat_minor": 5
}
