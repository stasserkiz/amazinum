{
 "cells": [
  {
   "cell_type": "code",
   "execution_count": 22,
   "id": "9b09ea11",
   "metadata": {},
   "outputs": [],
   "source": [
    "import numpy as np\n",
    "from sklearn.model_selection import train_test_split\n",
    "from sklearn.linear_model import Ridge, Lasso\n",
    "from sklearn.preprocessing import PolynomialFeatures\n",
    "from sklearn.metrics import mean_squared_error\n",
    "import matplotlib.pyplot as plt\n",
    "import sklearn.datasets\n",
    "\n",
    "df= sklearn.datasets.load_diabetes()"
   ]
  },
  {
   "cell_type": "code",
   "execution_count": 6,
   "id": "dc8e1ff4",
   "metadata": {},
   "outputs": [],
   "source": [
    "from sklearn.linear_model import Ridge\n",
    "ridge_reg=Ridge()\n",
    "X = df.data\n",
    "y = df.target\n",
    "\n",
    "X_train, X_test, y_train, y_test = train_test_split(X, y, test_size=0.2, random_state=42)\n",
    "ridge_reg.fit(X_train,y_train)\n",
    "regressor = ridge_reg"
   ]
  },
  {
   "cell_type": "code",
   "execution_count": 7,
   "id": "91742088",
   "metadata": {},
   "outputs": [
    {
     "name": "stdout",
     "output_type": "stream",
     "text": [
      "Ridge\n",
      "R2 train score = 0.4424027835503953\n",
      "R2 test score = 0.41915292635986545\n",
      "b: 152.241675211113, \n",
      "w= [  45.36737726  -76.66608563  291.33883165  198.99581745   -0.53030959\n",
      "  -28.57704987 -144.51190505  119.26006559  230.22160832  112.14983004]\n"
     ]
    }
   ],
   "source": [
    "print ('Ridge')\n",
    "print ('R2 train score =', regressor.score(X_train, y_train))\n",
    "print ('R2 test score =', regressor.score(X_test, y_test))\n",
    "print ('b: {}, \\nw= {}'.format(regressor.intercept_, regressor.coef_)) "
   ]
  },
  {
   "cell_type": "code",
   "execution_count": 8,
   "id": "3ea79af5",
   "metadata": {},
   "outputs": [],
   "source": [
    "from sklearn.linear_model import Lasso\n",
    "X_train1, X_test1, y_train1, y_test1 = train_test_split(X, y, test_size=0.2, random_state=42)\n",
    "\n",
    "lasso_reg=Lasso()\n",
    "lasso_reg.fit(X_train1,y_train1)\n",
    "regressor = lasso_reg\n"
   ]
  },
  {
   "cell_type": "code",
   "execution_count": 9,
   "id": "ff530857",
   "metadata": {},
   "outputs": [
    {
     "name": "stdout",
     "output_type": "stream",
     "text": [
      "Lasso\n",
      "R2 train score = 0.3646309911295581\n",
      "R2 test score = 0.3575918767219112\n",
      "b: 152.6639595689638, \n",
      "w= [  0.          -0.         413.43184792  34.83051518   0.\n",
      "   0.          -0.           0.         258.15289363   0.        ]\n"
     ]
    }
   ],
   "source": [
    "print ('Lasso')\n",
    "print ('R2 train score =', regressor.score(X_train1, y_train1))\n",
    "print ('R2 test score =', regressor.score(X_test1, y_test1))\n",
    "print ('b: {}, \\nw= {}'.format(regressor.intercept_, regressor.coef_)) "
   ]
  },
  {
   "cell_type": "code",
   "execution_count": 36,
   "id": "9897bd2c",
   "metadata": {},
   "outputs": [],
   "source": [
    "from sklearn.preprocessing import PolynomialFeatures\n",
    "from sklearn.linear_model import LinearRegression"
   ]
  },
  {
   "cell_type": "code",
   "execution_count": 43,
   "id": "8f0696c9",
   "metadata": {},
   "outputs": [],
   "source": [
    "X = df.data\n",
    "y = df.target\n",
    "X_train, X_test, y_train, y_test = train_test_split(X, y, test_size=0.2, random_state=42)"
   ]
  },
  {
   "cell_type": "code",
   "execution_count": 50,
   "id": "7e765f2f",
   "metadata": {},
   "outputs": [
    {
     "name": "stdout",
     "output_type": "stream",
     "text": [
      "X_train.shape=  (353, 10)\n",
      "X_train_poly.shape=  (353, 285)\n"
     ]
    }
   ],
   "source": [
    "poly= PolynomialFeatures(degree=3,include_bias=False)\n",
    "X_train_poly= poly.fit_transform(X_train) # зміна на поліміальні ознаки\n",
    "X_test_poly = poly.transform(X_test)\n",
    "print ('X_train.shape= ',X_train.shape)\n",
    "print ('X_train_poly.shape= ',X_train_poly.shape)"
   ]
  },
  {
   "cell_type": "code",
   "execution_count": 52,
   "id": "656e421e",
   "metadata": {},
   "outputs": [
    {
     "name": "stdout",
     "output_type": "stream",
     "text": [
      "Polynomial + Lasso\n",
      "R2 train score = 0.3646309911295581\n",
      "R2 test score = 0.3575918767219112\n",
      "b: 152.6639595689638, \n",
      "w= [  0.          -0.         413.43184792  34.83051518   0.\n",
      "   0.          -0.           0.         258.15289363   0.\n",
      "   0.           0.           0.           0.          -0.\n",
      "  -0.          -0.           0.           0.           0.\n",
      "  -0.           0.           0.          -0.          -0.\n",
      "   0.           0.           0.           0.           0.\n",
      "   0.          -0.          -0.          -0.           0.\n",
      "   0.           0.           0.           0.          -0.\n",
      "   0.           0.           0.           0.          -0.\n",
      "  -0.          -0.           0.          -0.           0.\n",
      "  -0.           0.          -0.          -0.          -0.\n",
      "  -0.          -0.           0.          -0.           0.\n",
      "   0.           0.           0.           0.           0.\n",
      "   0.          -0.           0.           0.           0.\n",
      "   0.          -0.           0.           0.           0.\n",
      "   0.           0.          -0.          -0.          -0.\n",
      "  -0.           0.          -0.          -0.           0.\n",
      "   0.          -0.           0.          -0.           0.\n",
      "   0.           0.           0.           0.          -0.\n",
      "  -0.           0.           0.           0.           0.\n",
      "   0.           0.           0.           0.          -0.\n",
      "   0.           0.           0.           0.          -0.\n",
      "   0.          -0.          -0.          -0.           0.\n",
      "   0.          -0.           0.           0.           0.\n",
      "  -0.           0.           0.           0.           0.\n",
      "  -0.           0.           0.           0.           0.\n",
      "   0.          -0.          -0.          -0.           0.\n",
      "  -0.           0.           0.          -0.          -0.\n",
      "  -0.           0.           0.           0.          -0.\n",
      "  -0.           0.          -0.          -0.          -0.\n",
      "  -0.          -0.          -0.          -0.          -0.\n",
      "   0.          -0.          -0.          -0.           0.\n",
      "   0.           0.           0.           0.           0.\n",
      "   0.           0.          -0.          -0.          -0.\n",
      "   0.           0.           0.           0.           0.\n",
      "  -0.          -0.           0.           0.           0.\n",
      "   0.           0.           0.           0.           0.\n",
      "   0.           0.           0.           0.           0.\n",
      "   0.           0.          -0.          -0.          -0.\n",
      "   0.           0.           0.           0.           0.\n",
      "   0.           0.           0.           0.          -0.\n",
      "   0.           0.           0.           0.           0.\n",
      "   0.           0.           0.           0.           0.\n",
      "  -0.           0.           0.           0.           0.\n",
      "  -0.          -0.          -0.           0.           0.\n",
      "   0.           0.           0.           0.           0.\n",
      "  -0.          -0.           0.           0.           0.\n",
      "  -0.          -0.           0.           0.           0.\n",
      "  -0.          -0.          -0.          -0.           0.\n",
      "   0.           0.           0.           0.           0.\n",
      "  -0.          -0.           0.           0.           0.\n",
      "   0.          -0.          -0.          -0.           0.\n",
      "   0.           0.           0.           0.           0.\n",
      "  -0.           0.           0.           0.          -0.\n",
      "  -0.          -0.          -0.          -0.          -0.\n",
      "   0.           0.           0.           0.           0.\n",
      "   0.           0.           0.           0.           0.        ]\n",
      "\n",
      "Relevant w= [413.43184792  34.83051518 258.15289363]\n"
     ]
    }
   ],
   "source": [
    "poly_lasso = Lasso(max_iter=100000).fit (X_train_poly,y_train)\n",
    "regressor = poly_lasso\n",
    "print ('Polynomial + Lasso')\n",
    "print ('R2 train score =', regressor.score(X_train_poly, y_train))\n",
    "print ('R2 test score =', regressor.score(X_test_poly, y_test))\n",
    "\n",
    "w= regressor.coef_\n",
    "print ('b: {}, \\nw= {}'.format(regressor.intercept_, w)) \n",
    "w_relevant= w[np.abs(w) > 1e-2]\n",
    "print ('\\nRelevant w= {}'.format(w_relevant)) \n"
   ]
  },
  {
   "cell_type": "code",
   "execution_count": null,
   "id": "3bc05a8e",
   "metadata": {},
   "outputs": [],
   "source": []
  }
 ],
 "metadata": {
  "kernelspec": {
   "display_name": "Python 3 (ipykernel)",
   "language": "python",
   "name": "python3"
  },
  "language_info": {
   "codemirror_mode": {
    "name": "ipython",
    "version": 3
   },
   "file_extension": ".py",
   "mimetype": "text/x-python",
   "name": "python",
   "nbconvert_exporter": "python",
   "pygments_lexer": "ipython3",
   "version": "3.11.5"
  }
 },
 "nbformat": 4,
 "nbformat_minor": 5
}
